{
  "nbformat": 4,
  "nbformat_minor": 0,
  "metadata": {
    "colab": {
      "name": "C2_W2_Lab_1_cats_v_dogs_augmentation.ipynb",
      "provenance": [],
      "authorship_tag": "ABX9TyPKtu4S6nBlT+MVYATbTkmK",
      "include_colab_link": true
    },
    "kernelspec": {
      "name": "python3",
      "display_name": "Python 3"
    },
    "language_info": {
      "name": "python"
    }
  },
  "cells": [
    {
      "cell_type": "markdown",
      "metadata": {
        "id": "view-in-github",
        "colab_type": "text"
      },
      "source": [
        "<a href=\"https://colab.research.google.com/github/Moez7/IA/blob/main/C2_W2_Lab_1_cats_v_dogs_augmentation.ipynb\" target=\"_parent\"><img src=\"https://colab.research.google.com/assets/colab-badge.svg\" alt=\"Open In Colab\"/></a>"
      ]
    },
    {
      "cell_type": "markdown",
      "source": [
        "**Baseline Performance**"
      ],
      "metadata": {
        "id": "KUus-875sqRQ"
      }
    },
    {
      "cell_type": "code",
      "execution_count": null,
      "metadata": {
        "colab": {
          "base_uri": "https://localhost:8080/"
        },
        "id": "V7Kg-hVNr8ii",
        "outputId": "980f8bd9-070e-489b-b3c3-def439cdcc9c"
      },
      "outputs": [
        {
          "output_type": "stream",
          "name": "stdout",
          "text": [
            "--2022-05-04 10:49:41--  https://storage.googleapis.com/tensorflow-1-public/course2/cats_and_dogs_filtered.zip\n",
            "Resolving storage.googleapis.com (storage.googleapis.com)... 74.125.20.128, 108.177.98.128, 74.125.197.128, ...\n",
            "Connecting to storage.googleapis.com (storage.googleapis.com)|74.125.20.128|:443... connected.\n",
            "HTTP request sent, awaiting response... 200 OK\n",
            "Length: 68606236 (65M) [application/zip]\n",
            "Saving to: ‘cats_and_dogs_filtered.zip’\n",
            "\n",
            "cats_and_dogs_filte 100%[===================>]  65.43M   199MB/s    in 0.3s    \n",
            "\n",
            "2022-05-04 10:49:41 (199 MB/s) - ‘cats_and_dogs_filtered.zip’ saved [68606236/68606236]\n",
            "\n"
          ]
        }
      ],
      "source": [
        "# Download the dataset\n",
        "!wget https://storage.googleapis.com/tensorflow-1-public/course2/cats_and_dogs_filtered.zip"
      ]
    },
    {
      "cell_type": "code",
      "source": [
        "import os\n",
        "import zipfile\n",
        "\n",
        "# Extract the archive\n",
        "zip_ref = zipfile.ZipFile(\"./cats_and_dogs_filtered.zip\", 'r')\n",
        "zip_ref.extractall(\"tmp/\")\n",
        "zip_ref.close()\n",
        "\n",
        "# Assign training and validation set directories\n",
        "base_dir = 'tmp/cats_and_dogs_filtered'\n",
        "train_dir = os.path.join(base_dir, 'train')\n",
        "validation_dir = os.path.join(base_dir, 'validation')\n",
        "\n",
        "# Directory with training cat pictures\n",
        "train_cats_dir = os.path.join(train_dir, 'cats')\n",
        "\n",
        "# Directory with training dog pictures\n",
        "train_dogs_dir = os.path.join(train_dir, 'dogs')\n",
        "\n",
        "# Directory with validation cat pictures\n",
        "validation_cats_dir = os.path.join(validation_dir, 'cats')\n",
        "\n",
        "# Directory with validation dog pictures\n",
        "validation_dogs_dir = os.path.join(validation_dir, 'dogs')"
      ],
      "metadata": {
        "id": "q2ZU0AumsLns"
      },
      "execution_count": null,
      "outputs": []
    },
    {
      "cell_type": "code",
      "source": [
        "import tensorflow as tf\n",
        "from tensorflow.keras.optimizers import RMSprop\n",
        "\n",
        "def create_model():\n",
        "  '''Creates a CNN with 4 convolutional layers'''\n",
        "  model = tf.keras.models.Sequential([\n",
        "      tf.keras.layers.Conv2D(32, (3,3), activation='relu', input_shape=(150, 150, 3)),\n",
        "      tf.keras.layers.MaxPooling2D(2, 2),\n",
        "      tf.keras.layers.Conv2D(64, (3,3), activation='relu'),\n",
        "      tf.keras.layers.MaxPooling2D(2,2),\n",
        "      tf.keras.layers.Conv2D(128, (3,3), activation='relu'),\n",
        "      tf.keras.layers.MaxPooling2D(2,2),\n",
        "      tf.keras.layers.Conv2D(128, (3,3), activation='relu'),\n",
        "      tf.keras.layers.MaxPooling2D(2,2),\n",
        "      tf.keras.layers.Flatten(),\n",
        "      tf.keras.layers.Dense(512, activation='relu'),\n",
        "      tf.keras.layers.Dense(1, activation='sigmoid')\n",
        "  ])\n",
        "\n",
        "  model.compile(loss='binary_crossentropy',\n",
        "                optimizer=RMSprop(learning_rate=1e-4),\n",
        "                metrics=['accuracy'])\n",
        "  \n",
        "  return model"
      ],
      "metadata": {
        "id": "_xPugLbqsP-e"
      },
      "execution_count": null,
      "outputs": []
    },
    {
      "cell_type": "code",
      "source": [
        "from tensorflow.keras.preprocessing.image import ImageDataGenerator\n",
        "\n",
        "# All images will be rescaled by 1./255\n",
        "train_datagen = ImageDataGenerator(rescale=1./255)\n",
        "test_datagen = ImageDataGenerator(rescale=1./255)\n",
        "\n",
        "# Flow training images in batches of 20 using train_datagen generator\n",
        "train_generator = train_datagen.flow_from_directory(\n",
        "        train_dir,  # This is the source directory for training images\n",
        "        target_size=(150, 150),  # All images will be resized to 150x150\n",
        "        batch_size=20,\n",
        "        # Since we use binary_crossentropy loss, we need binary labels\n",
        "        class_mode='binary')\n",
        "\n",
        "# Flow validation images in batches of 20 using test_datagen generator\n",
        "validation_generator = test_datagen.flow_from_directory(\n",
        "        validation_dir,\n",
        "        target_size=(150, 150),\n",
        "        batch_size=20,\n",
        "        class_mode='binary')"
      ],
      "metadata": {
        "colab": {
          "base_uri": "https://localhost:8080/"
        },
        "id": "LJkD_25ksWzT",
        "outputId": "7a01690a-e3f8-473a-9f38-f6804ca6b08f"
      },
      "execution_count": null,
      "outputs": [
        {
          "output_type": "stream",
          "name": "stdout",
          "text": [
            "Found 2000 images belonging to 2 classes.\n",
            "Found 1000 images belonging to 2 classes.\n"
          ]
        }
      ]
    },
    {
      "cell_type": "code",
      "source": [
        "# Constant for epochs\n",
        "EPOCHS = 20\n",
        "\n",
        "# Create a new model\n",
        "model = create_model()\n",
        "\n",
        "# Train the model\n",
        "history = model.fit(\n",
        "      train_generator,\n",
        "      steps_per_epoch=100,  # 2000 images = batch_size * steps\n",
        "      epochs=EPOCHS,\n",
        "      validation_data=validation_generator,\n",
        "      validation_steps=50,  # 1000 images = batch_size * steps\n",
        "      verbose=2)"
      ],
      "metadata": {
        "colab": {
          "base_uri": "https://localhost:8080/"
        },
        "id": "20BtyczmscHQ",
        "outputId": "b7daeab1-f363-4d0a-fe66-98111f45d07d"
      },
      "execution_count": null,
      "outputs": [
        {
          "output_type": "stream",
          "name": "stdout",
          "text": [
            "Epoch 1/20\n",
            "100/100 - 105s - loss: 0.6884 - accuracy: 0.5415 - val_loss: 0.6580 - val_accuracy: 0.6180 - 105s/epoch - 1s/step\n",
            "Epoch 2/20\n",
            "100/100 - 99s - loss: 0.6417 - accuracy: 0.6310 - val_loss: 0.6176 - val_accuracy: 0.6530 - 99s/epoch - 990ms/step\n",
            "Epoch 3/20\n",
            "100/100 - 98s - loss: 0.5902 - accuracy: 0.6875 - val_loss: 0.6039 - val_accuracy: 0.6600 - 98s/epoch - 984ms/step\n",
            "Epoch 4/20\n",
            "100/100 - 99s - loss: 0.5490 - accuracy: 0.7100 - val_loss: 0.5701 - val_accuracy: 0.7090 - 99s/epoch - 986ms/step\n",
            "Epoch 5/20\n",
            "100/100 - 97s - loss: 0.5294 - accuracy: 0.7260 - val_loss: 0.5697 - val_accuracy: 0.7110 - 97s/epoch - 975ms/step\n",
            "Epoch 6/20\n",
            "100/100 - 98s - loss: 0.5022 - accuracy: 0.7490 - val_loss: 0.5583 - val_accuracy: 0.7060 - 98s/epoch - 979ms/step\n",
            "Epoch 7/20\n",
            "100/100 - 98s - loss: 0.4725 - accuracy: 0.7725 - val_loss: 0.5564 - val_accuracy: 0.7250 - 98s/epoch - 981ms/step\n",
            "Epoch 8/20\n",
            "100/100 - 99s - loss: 0.4450 - accuracy: 0.7930 - val_loss: 0.6125 - val_accuracy: 0.6850 - 99s/epoch - 994ms/step\n",
            "Epoch 9/20\n",
            "100/100 - 104s - loss: 0.4229 - accuracy: 0.8035 - val_loss: 0.5735 - val_accuracy: 0.7190 - 104s/epoch - 1s/step\n",
            "Epoch 10/20\n",
            "100/100 - 105s - loss: 0.3956 - accuracy: 0.8255 - val_loss: 0.5483 - val_accuracy: 0.7310 - 105s/epoch - 1s/step\n",
            "Epoch 11/20\n",
            "100/100 - 105s - loss: 0.3699 - accuracy: 0.8430 - val_loss: 0.5354 - val_accuracy: 0.7460 - 105s/epoch - 1s/step\n",
            "Epoch 12/20\n",
            "100/100 - 104s - loss: 0.3451 - accuracy: 0.8575 - val_loss: 0.5494 - val_accuracy: 0.7460 - 104s/epoch - 1s/step\n",
            "Epoch 13/20\n",
            "100/100 - 105s - loss: 0.3181 - accuracy: 0.8685 - val_loss: 0.5595 - val_accuracy: 0.7310 - 105s/epoch - 1s/step\n",
            "Epoch 14/20\n",
            "100/100 - 105s - loss: 0.2942 - accuracy: 0.8790 - val_loss: 0.5584 - val_accuracy: 0.7530 - 105s/epoch - 1s/step\n",
            "Epoch 15/20\n",
            "100/100 - 101s - loss: 0.2782 - accuracy: 0.8895 - val_loss: 0.5960 - val_accuracy: 0.7260 - 101s/epoch - 1s/step\n",
            "Epoch 16/20\n",
            "100/100 - 98s - loss: 0.2523 - accuracy: 0.9030 - val_loss: 0.5653 - val_accuracy: 0.7500 - 98s/epoch - 976ms/step\n",
            "Epoch 17/20\n",
            "100/100 - 97s - loss: 0.2219 - accuracy: 0.9220 - val_loss: 0.7459 - val_accuracy: 0.7000 - 97s/epoch - 975ms/step\n",
            "Epoch 18/20\n",
            "100/100 - 99s - loss: 0.2097 - accuracy: 0.9155 - val_loss: 0.5956 - val_accuracy: 0.7490 - 99s/epoch - 993ms/step\n",
            "Epoch 19/20\n",
            "100/100 - 100s - loss: 0.1815 - accuracy: 0.9360 - val_loss: 0.6123 - val_accuracy: 0.7390 - 100s/epoch - 1s/step\n",
            "Epoch 20/20\n",
            "100/100 - 102s - loss: 0.1581 - accuracy: 0.9430 - val_loss: 0.6359 - val_accuracy: 0.7510 - 102s/epoch - 1s/step\n"
          ]
        }
      ]
    },
    {
      "cell_type": "code",
      "source": [
        ""
      ],
      "metadata": {
        "id": "5le_Dft5skv_"
      },
      "execution_count": null,
      "outputs": []
    },
    {
      "cell_type": "code",
      "source": [
        "import matplotlib.pyplot as plt\n",
        "\n",
        "def plot_loss_acc(history):\n",
        "  '''Plots the training and validation loss and accuracy from a history object'''\n",
        "  acc = history.history['accuracy']\n",
        "  val_acc = history.history['val_accuracy']\n",
        "  loss = history.history['loss']\n",
        "  val_loss = history.history['val_loss']\n",
        "\n",
        "  epochs = range(len(acc))\n",
        "\n",
        "  plt.plot(epochs, acc, 'bo', label='Training accuracy')\n",
        "  plt.plot(epochs, val_acc, 'b', label='Validation accuracy')\n",
        "  plt.title('Training and validation accuracy')\n",
        "\n",
        "  plt.figure()\n",
        "\n",
        "  plt.plot(epochs, loss, 'bo', label='Training Loss')\n",
        "  plt.plot(epochs, val_loss, 'b', label='Validation Loss')\n",
        "  plt.title('Training and validation loss')\n",
        "  plt.legend()\n",
        "\n",
        "  plt.show()"
      ],
      "metadata": {
        "id": "V2iMcgnSsxNP"
      },
      "execution_count": null,
      "outputs": []
    },
    {
      "cell_type": "markdown",
      "source": [
        "**Data augmentation**"
      ],
      "metadata": {
        "id": "hbXtE2mYsysL"
      }
    },
    {
      "cell_type": "code",
      "source": [
        "# Create new model\n",
        "model_for_aug = create_model()\n",
        "\n",
        "# This code has changed. Now instead of the ImageGenerator just rescaling\n",
        "# the image, we also rotate and do other operations\n",
        "train_datagen = ImageDataGenerator(\n",
        "      rescale=1./255,\n",
        "      rotation_range=40,\n",
        "      width_shift_range=0.2,\n",
        "      height_shift_range=0.2,\n",
        "      shear_range=0.2,\n",
        "      zoom_range=0.2,\n",
        "      horizontal_flip=True,\n",
        "      fill_mode='nearest')\n",
        "\n",
        "test_datagen = ImageDataGenerator(rescale=1./255)\n",
        "\n",
        "# Flow training images in batches of 20 using train_datagen generator\n",
        "train_generator = train_datagen.flow_from_directory(\n",
        "        train_dir,  # This is the source directory for training images\n",
        "        target_size=(150, 150),  # All images will be resized to 150x150\n",
        "        batch_size=20,\n",
        "        # Since we use binary_crossentropy loss, we need binary labels\n",
        "        class_mode='binary')\n",
        "\n",
        "# Flow validation images in batches of 20 using test_datagen generator\n",
        "validation_generator = test_datagen.flow_from_directory(\n",
        "        validation_dir,\n",
        "        target_size=(150, 150),\n",
        "        batch_size=20,\n",
        "        class_mode='binary')\n",
        "\n",
        "# Train the new model\n",
        "history_with_aug = model_for_aug.fit(\n",
        "      train_generator,\n",
        "      steps_per_epoch=100,  # 2000 images = batch_size * steps\n",
        "      epochs=EPOCHS,\n",
        "      validation_data=validation_generator,\n",
        "      validation_steps=50,  # 1000 images = batch_size * steps\n",
        "      verbose=2)"
      ],
      "metadata": {
        "colab": {
          "base_uri": "https://localhost:8080/"
        },
        "id": "BEqZZUUPs3-A",
        "outputId": "b1c6978b-7d54-4b78-a305-54f611c3eb93"
      },
      "execution_count": null,
      "outputs": [
        {
          "output_type": "stream",
          "name": "stdout",
          "text": [
            "Found 2000 images belonging to 2 classes.\n",
            "Found 1000 images belonging to 2 classes.\n",
            "Epoch 1/20\n",
            "100/100 - 108s - loss: 0.6937 - accuracy: 0.5165 - val_loss: 0.6847 - val_accuracy: 0.5010 - 108s/epoch - 1s/step\n",
            "Epoch 2/20\n",
            "100/100 - 106s - loss: 0.6803 - accuracy: 0.5620 - val_loss: 0.6519 - val_accuracy: 0.6460 - 106s/epoch - 1s/step\n",
            "Epoch 3/20\n",
            "100/100 - 107s - loss: 0.6633 - accuracy: 0.5930 - val_loss: 0.6360 - val_accuracy: 0.6390 - 107s/epoch - 1s/step\n",
            "Epoch 4/20\n",
            "100/100 - 106s - loss: 0.6475 - accuracy: 0.6175 - val_loss: 0.6081 - val_accuracy: 0.6640 - 106s/epoch - 1s/step\n",
            "Epoch 5/20\n",
            "100/100 - 106s - loss: 0.6330 - accuracy: 0.6515 - val_loss: 0.5865 - val_accuracy: 0.6940 - 106s/epoch - 1s/step\n",
            "Epoch 6/20\n"
          ]
        }
      ]
    },
    {
      "cell_type": "code",
      "source": [
        "# Plot the results of training with data augmentation\n",
        "plot_loss_acc(history_with_aug)"
      ],
      "metadata": {
        "id": "Hrvbfo0Es8hz"
      },
      "execution_count": null,
      "outputs": []
    }
  ]
}